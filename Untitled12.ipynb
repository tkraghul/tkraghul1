{
 "cells": [
  {
   "cell_type": "markdown",
   "id": "d3857e59",
   "metadata": {},
   "source": [
    "# 1.1 Area of Triangle Using Class Concepts"
   ]
  },
  {
   "cell_type": "code",
   "execution_count": 1,
   "id": "ac6f7987",
   "metadata": {},
   "outputs": [
    {
     "name": "stdout",
     "output_type": "stream",
     "text": [
      "Enter the length of side a: 4\n",
      "Enter the length of side b: 5\n",
      "Enter the length of side c: 6\n",
      "Area of the triangle: 9.921567416492215\n"
     ]
    }
   ],
   "source": [
    "class Triangle:\n",
    "    def __init__(self):\n",
    "        self.a = float(input(\"Enter the length of side a: \"))\n",
    "        self.b = float(input(\"Enter the length of side b: \"))\n",
    "        self.c = float(input(\"Enter the length of side c: \"))\n",
    "\n",
    "class Area(Triangle):\n",
    "    def __init__(self):\n",
    "        super().__init__()\n",
    "\n",
    "    def calculate_area(self):\n",
    "        s = (self.a + self.b + self.c) / 2\n",
    "        area = (s * (s - self.a) * (s - self.b) * (s - self.c)) ** 0.5\n",
    "        return area\n",
    "\n",
    "\n",
    "triangle = Area()\n",
    "print(\"Area of the triangle:\", triangle.calculate_area())\n"
   ]
  },
  {
   "cell_type": "code",
   "execution_count": null,
   "id": "b3c7a573",
   "metadata": {},
   "outputs": [],
   "source": []
  },
  {
   "cell_type": "markdown",
   "id": "4fa7d25b",
   "metadata": {},
   "source": [
    "# 1.2 Filter Long Words Function:"
   ]
  },
  {
   "cell_type": "code",
   "execution_count": 2,
   "id": "26ecdcde",
   "metadata": {},
   "outputs": [
    {
     "name": "stdout",
     "output_type": "stream",
     "text": [
      "Words longer than 5 characters: ['banana', 'orange']\n"
     ]
    }
   ],
   "source": [
    "def filter_long_words(words, n):\n",
    "    return [word for word in words if len(word) > n]\n",
    "\n",
    "\n",
    "word_list = ['apple', 'banana', 'orange', 'kiwi', 'grape']\n",
    "n = 5\n",
    "print(\"Words longer than\", n, \"characters:\", filter_long_words(word_list, n))\n"
   ]
  },
  {
   "cell_type": "markdown",
   "id": "dab11ad6",
   "metadata": {},
   "source": [
    "# 2.1 Mapping List of Words to List of Word Lengths:"
   ]
  },
  {
   "cell_type": "code",
   "execution_count": 3,
   "id": "951cddf5",
   "metadata": {},
   "outputs": [
    {
     "name": "stdout",
     "output_type": "stream",
     "text": [
      "Lengths of corresponding words: [2, 3, 4]\n"
     ]
    }
   ],
   "source": [
    "def word_lengths(words):\n",
    "    return [len(word) for word in words]\n",
    "\n",
    "word_list = ['ab', 'cde', 'erty']\n",
    "print(\"Lengths of corresponding words:\", word_lengths(word_list))\n"
   ]
  },
  {
   "cell_type": "code",
   "execution_count": null,
   "id": "ef0bdcb0",
   "metadata": {},
   "outputs": [],
   "source": []
  },
  {
   "cell_type": "markdown",
   "id": "e209e89f",
   "metadata": {},
   "source": [
    "# 2.2 Function to Check if a Character is a Vowel:"
   ]
  },
  {
   "cell_type": "code",
   "execution_count": 4,
   "id": "ec57b5e6",
   "metadata": {},
   "outputs": [
    {
     "name": "stdout",
     "output_type": "stream",
     "text": [
      "Is a a vowel? True\n"
     ]
    }
   ],
   "source": [
    "def is_vowel(char):\n",
    "    vowels = 'aeiouAEIOU'\n",
    "    return char in vowels\n",
    "\n",
    "character = 'a'\n",
    "print(\"Is\", character, \"a vowel?\", is_vowel(character))\n"
   ]
  },
  {
   "cell_type": "code",
   "execution_count": null,
   "id": "9b588f11",
   "metadata": {},
   "outputs": [],
   "source": []
  },
  {
   "cell_type": "markdown",
   "id": "090d5f43",
   "metadata": {},
   "source": []
  },
  {
   "cell_type": "code",
   "execution_count": null,
   "id": "7d2c312d",
   "metadata": {},
   "outputs": [],
   "source": []
  },
  {
   "cell_type": "code",
   "execution_count": null,
   "id": "69ca9b7b",
   "metadata": {},
   "outputs": [],
   "source": []
  }
 ],
 "metadata": {
  "kernelspec": {
   "display_name": "Python 3 (ipykernel)",
   "language": "python",
   "name": "python3"
  },
  "language_info": {
   "codemirror_mode": {
    "name": "ipython",
    "version": 3
   },
   "file_extension": ".py",
   "mimetype": "text/x-python",
   "name": "python",
   "nbconvert_exporter": "python",
   "pygments_lexer": "ipython3",
   "version": "3.11.5"
  }
 },
 "nbformat": 4,
 "nbformat_minor": 5
}
