{
 "cells": [
  {
   "cell_type": "markdown",
   "id": "b27e48bd",
   "metadata": {},
   "source": [
    "# 1. Function to Compute Division by Zero:"
   ]
  },
  {
   "cell_type": "code",
   "execution_count": 1,
   "id": "f3722345",
   "metadata": {},
   "outputs": [
    {
     "name": "stdout",
     "output_type": "stream",
     "text": [
      "Error: Division by zero is not allowed.\n"
     ]
    }
   ],
   "source": [
    "def divide_by_zero():\n",
    "    try:\n",
    "        result = 5 / 0\n",
    "        print(\"Result:\", result)\n",
    "    except ZeroDivisionError:\n",
    "        print(\"Error: Division by zero is not allowed.\")\n",
    "\n",
    "divide_by_zero()\n"
   ]
  },
  {
   "cell_type": "code",
   "execution_count": null,
   "id": "3391613c",
   "metadata": {},
   "outputs": [],
   "source": []
  },
  {
   "cell_type": "markdown",
   "id": "f9158d02",
   "metadata": {},
   "source": [
    "# 2. Python Program to Generate Sentences:"
   ]
  },
  {
   "cell_type": "code",
   "execution_count": 2,
   "id": "1661c55d",
   "metadata": {},
   "outputs": [],
   "source": [
    "subjects = [\"Americans\", \"Indians\"]\n",
    "verbs = [\"play\", \"watch\"]\n",
    "objects = [\"Baseball\", \"Cricket\"]"
   ]
  },
  {
   "cell_type": "code",
   "execution_count": 3,
   "id": "a097e153",
   "metadata": {},
   "outputs": [
    {
     "name": "stdout",
     "output_type": "stream",
     "text": [
      "Americans play Baseball.\n",
      "Americans play Cricket.\n",
      "Americans watch Baseball.\n",
      "Americans watch Cricket.\n",
      "Indians play Baseball.\n",
      "Indians play Cricket.\n",
      "Indians watch Baseball.\n",
      "Indians watch Cricket.\n"
     ]
    }
   ],
   "source": [
    "def generate_sentences():\n",
    "    for subject in subjects:\n",
    "        for verb in verbs:\n",
    "            for obj in objects:\n",
    "                print(subject + \" \" + verb + \" \" + obj + \".\")\n",
    "\n",
    "\n",
    "generate_sentences()"
   ]
  },
  {
   "cell_type": "code",
   "execution_count": null,
   "id": "f95f0136",
   "metadata": {},
   "outputs": [],
   "source": []
  }
 ],
 "metadata": {
  "kernelspec": {
   "display_name": "Python 3 (ipykernel)",
   "language": "python",
   "name": "python3"
  },
  "language_info": {
   "codemirror_mode": {
    "name": "ipython",
    "version": 3
   },
   "file_extension": ".py",
   "mimetype": "text/x-python",
   "name": "python",
   "nbconvert_exporter": "python",
   "pygments_lexer": "ipython3",
   "version": "3.11.5"
  }
 },
 "nbformat": 4,
 "nbformat_minor": 5
}
