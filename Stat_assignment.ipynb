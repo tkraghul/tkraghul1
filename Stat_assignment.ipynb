{
 "cells": [
  {
   "cell_type": "markdown",
   "id": "2584007f",
   "metadata": {},
   "source": [
    "# Problem Statement 1:"
   ]
  },
  {
   "cell_type": "code",
   "execution_count": 1,
   "id": "009a8bfd",
   "metadata": {},
   "outputs": [],
   "source": [
    "import scipy.stats as stats"
   ]
  },
  {
   "cell_type": "code",
   "execution_count": 2,
   "id": "ee7bc1a4",
   "metadata": {},
   "outputs": [],
   "source": [
    "observed = [[60, 54, 46, 41],[40, 44, 53, 57]]"
   ]
  },
  {
   "cell_type": "code",
   "execution_count": 3,
   "id": "13b4f890",
   "metadata": {},
   "outputs": [],
   "source": [
    "chi2_stat, p_val, dof, expected = stats.chi2_contingency(observed)"
   ]
  },
  {
   "cell_type": "code",
   "execution_count": 4,
   "id": "664b5db5",
   "metadata": {},
   "outputs": [],
   "source": [
    "alpha = 0.05"
   ]
  },
  {
   "cell_type": "code",
   "execution_count": 5,
   "id": "7d5cebf8",
   "metadata": {},
   "outputs": [
    {
     "name": "stdout",
     "output_type": "stream",
     "text": [
      "Chi-square statistic: 8.006066246262538\n",
      "P-value: 0.045886500891747214\n",
      "Degrees of freedom: 3\n",
      "Expected frequencies table:\n",
      "[[50.88607595 49.86835443 50.37721519 49.86835443]\n",
      " [49.11392405 48.13164557 48.62278481 48.13164557]]\n"
     ]
    }
   ],
   "source": [
    "print(\"Chi-square statistic:\", chi2_stat)\n",
    "print(\"P-value:\", p_val)\n",
    "print(\"Degrees of freedom:\", dof)\n",
    "print(\"Expected frequencies table:\")\n",
    "print(expected)"
   ]
  },
  {
   "cell_type": "code",
   "execution_count": 6,
   "id": "a8047275",
   "metadata": {},
   "outputs": [
    {
     "name": "stdout",
     "output_type": "stream",
     "text": [
      "Reject the null hypothesis. Gender and education level are dependent.\n"
     ]
    }
   ],
   "source": [
    "if p_val < alpha:\n",
    "    print(\"Reject the null hypothesis. Gender and education level are dependent.\")\n",
    "else:\n",
    "    print(\"Fail to reject the null hypothesis. Gender and education level are independent.\")"
   ]
  },
  {
   "cell_type": "code",
   "execution_count": null,
   "id": "9b9e6d2e",
   "metadata": {},
   "outputs": [],
   "source": []
  },
  {
   "cell_type": "markdown",
   "id": "35e06c13",
   "metadata": {},
   "source": [
    "# Problem Statement 2:"
   ]
  },
  {
   "cell_type": "code",
   "execution_count": 7,
   "id": "febddc78",
   "metadata": {},
   "outputs": [],
   "source": [
    "group1 = [51, 45, 33, 45, 67]\n",
    "group2 = [23, 43, 23, 43, 45]\n",
    "group3 = [56, 76, 74, 87, 56]"
   ]
  },
  {
   "cell_type": "code",
   "execution_count": 8,
   "id": "50bda01b",
   "metadata": {},
   "outputs": [],
   "source": [
    "f_stat, p_val = stats.f_oneway(group1, group2, group3)"
   ]
  },
  {
   "cell_type": "code",
   "execution_count": 9,
   "id": "33b28c7f",
   "metadata": {},
   "outputs": [
    {
     "name": "stdout",
     "output_type": "stream",
     "text": [
      "F-statistic: 9.747205503009463\n",
      "P-value: 0.0030597541434430556\n"
     ]
    }
   ],
   "source": [
    "print(\"F-statistic:\", f_stat)\n",
    "print(\"P-value:\", p_val)"
   ]
  },
  {
   "cell_type": "code",
   "execution_count": 10,
   "id": "e7db3e6f",
   "metadata": {},
   "outputs": [
    {
     "name": "stdout",
     "output_type": "stream",
     "text": [
      "Reject the null hypothesis. There is a significant difference between group means.\n"
     ]
    }
   ],
   "source": [
    "if p_val < 0.05:\n",
    "    print(\"Reject the null hypothesis. There is a significant difference between group means.\")\n",
    "else:\n",
    "    print(\"Fail to reject the null hypothesis. There is no significant difference between group means.\")"
   ]
  },
  {
   "cell_type": "code",
   "execution_count": null,
   "id": "e46d524f",
   "metadata": {},
   "outputs": [],
   "source": []
  },
  {
   "cell_type": "markdown",
   "id": "8e75d7bd",
   "metadata": {},
   "source": [
    "# Problem Statement 3:\n"
   ]
  },
  {
   "cell_type": "code",
   "execution_count": 11,
   "id": "2e9fec0c",
   "metadata": {},
   "outputs": [],
   "source": [
    "data1 = [10, 20, 30, 40, 50]\n",
    "data2 = [5, 10, 15, 20, 25]"
   ]
  },
  {
   "cell_type": "code",
   "execution_count": 13,
   "id": "2695d7d6",
   "metadata": {},
   "outputs": [],
   "source": [
    "import numpy as np"
   ]
  },
  {
   "cell_type": "code",
   "execution_count": 14,
   "id": "b2236f74",
   "metadata": {},
   "outputs": [],
   "source": [
    "f_statistic = np.var(data1, ddof=1) / np.var(data2, ddof=1)\n",
    "p_val = stats.f(len(data1)-1, len(data2)-1).sf(f_statistic)"
   ]
  },
  {
   "cell_type": "code",
   "execution_count": 15,
   "id": "c8161d1c",
   "metadata": {},
   "outputs": [
    {
     "name": "stdout",
     "output_type": "stream",
     "text": [
      "F-statistic: 4.0\n",
      "P-value: 0.10400000000000002\n"
     ]
    }
   ],
   "source": [
    "print(\"F-statistic:\", f_statistic)\n",
    "print(\"P-value:\", p_val)"
   ]
  },
  {
   "cell_type": "code",
   "execution_count": null,
   "id": "90fa9e18",
   "metadata": {},
   "outputs": [],
   "source": []
  },
  {
   "cell_type": "code",
   "execution_count": null,
   "id": "9cd5f74a",
   "metadata": {},
   "outputs": [],
   "source": [
    "\n"
   ]
  }
 ],
 "metadata": {
  "kernelspec": {
   "display_name": "Python 3 (ipykernel)",
   "language": "python",
   "name": "python3"
  },
  "language_info": {
   "codemirror_mode": {
    "name": "ipython",
    "version": 3
   },
   "file_extension": ".py",
   "mimetype": "text/x-python",
   "name": "python",
   "nbconvert_exporter": "python",
   "pygments_lexer": "ipython3",
   "version": "3.11.5"
  }
 },
 "nbformat": 4,
 "nbformat_minor": 5
}
