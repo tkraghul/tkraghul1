{
 "cells": [
  {
   "cell_type": "markdown",
   "id": "7d782fb5",
   "metadata": {},
   "source": [
    "# 1.1 Assignment"
   ]
  },
  {
   "cell_type": "code",
   "execution_count": 1,
   "id": "adcc4ffb",
   "metadata": {},
   "outputs": [],
   "source": [
    "def myreduce(func, sequence):\n",
    "    result = sequence[0]\n",
    "    for item in sequence[1:]:\n",
    "        result = func(result, item)\n",
    "    return result"
   ]
  },
  {
   "cell_type": "code",
   "execution_count": 2,
   "id": "e83f4a23",
   "metadata": {},
   "outputs": [
    {
     "name": "stdout",
     "output_type": "stream",
     "text": [
      "Result of myreduce(): 15\n"
     ]
    }
   ],
   "source": [
    "\n",
    "def add(x, y):\n",
    "    return x + y\n",
    "\n",
    "numbers = [1, 2, 3, 4, 5]\n",
    "print(\"Result of myreduce():\", myreduce(add, numbers))\n"
   ]
  },
  {
   "cell_type": "code",
   "execution_count": null,
   "id": "7260da2f",
   "metadata": {},
   "outputs": [],
   "source": []
  },
  {
   "cell_type": "markdown",
   "id": "33108b64",
   "metadata": {},
   "source": [
    "# 1.2 Assignment"
   ]
  },
  {
   "cell_type": "code",
   "execution_count": 3,
   "id": "2803abfc",
   "metadata": {},
   "outputs": [],
   "source": [
    "def myfilter(func, sequence):\n",
    "    result = []\n",
    "    for item in sequence:\n",
    "        if func(item):\n",
    "            result.append(item)\n",
    "    return result"
   ]
  },
  {
   "cell_type": "code",
   "execution_count": 4,
   "id": "f4cb7f20",
   "metadata": {},
   "outputs": [
    {
     "name": "stdout",
     "output_type": "stream",
     "text": [
      "Result of myfilter(): [2, 4, 6, 8, 10]\n"
     ]
    }
   ],
   "source": [
    "def is_even(x):\n",
    "    return x % 2 == 0\n",
    "\n",
    "numbers = [1, 2, 3, 4, 5, 6, 7, 8, 9, 10]\n",
    "print(\"Result of myfilter():\", myfilter(is_even, numbers))"
   ]
  },
  {
   "cell_type": "code",
   "execution_count": null,
   "id": "1563bcc7",
   "metadata": {},
   "outputs": [],
   "source": []
  },
  {
   "cell_type": "markdown",
   "id": "9a5547a2",
   "metadata": {},
   "source": [
    "# 2 Assignment\n"
   ]
  },
  {
   "cell_type": "code",
   "execution_count": 5,
   "id": "85909537",
   "metadata": {},
   "outputs": [],
   "source": [
    "output1 = [char for char in 'ACADGILD']\n",
    "output2 = [char * num for char in 'xyz' for num in range(1, 5)]\n",
    "output3 = [char * num for num in range(1, 5) for char in 'xyz']\n",
    "output4 = [[num + i] for num in range(2, 5) for i in range(3)]\n",
    "output5 = [[num + i for num in range(2, 6)] for i in range(4)]\n",
    "output6 = [(j, i) for i in range(1, 4) for j in range(1, 4)]"
   ]
  },
  {
   "cell_type": "code",
   "execution_count": 6,
   "id": "5234d483",
   "metadata": {},
   "outputs": [
    {
     "name": "stdout",
     "output_type": "stream",
     "text": [
      "Output 1: ['A', 'C', 'A', 'D', 'G', 'I', 'L', 'D']\n",
      "Output 2: ['x', 'xx', 'xxx', 'xxxx', 'y', 'yy', 'yyy', 'yyyy', 'z', 'zz', 'zzz', 'zzzz']\n",
      "Output 3: ['x', 'y', 'z', 'xx', 'yy', 'zz', 'xxx', 'yyy', 'zzz', 'xxxx', 'yyyy', 'zzzz']\n",
      "Output 4: [[2], [3], [4], [3], [4], [5], [4], [5], [6]]\n",
      "Output 5: [[2, 3, 4, 5], [3, 4, 5, 6], [4, 5, 6, 7], [5, 6, 7, 8]]\n",
      "Output 6: [(1, 1), (2, 1), (3, 1), (1, 2), (2, 2), (3, 2), (1, 3), (2, 3), (3, 3)]\n"
     ]
    }
   ],
   "source": [
    "print(\"Output 1:\", output1)\n",
    "print(\"Output 2:\", output2)\n",
    "print(\"Output 3:\", output3)\n",
    "print(\"Output 4:\", output4)\n",
    "print(\"Output 5:\", output5)\n",
    "print(\"Output 6:\", output6)"
   ]
  },
  {
   "cell_type": "code",
   "execution_count": null,
   "id": "2e91748b",
   "metadata": {},
   "outputs": [],
   "source": []
  }
 ],
 "metadata": {
  "kernelspec": {
   "display_name": "Python 3 (ipykernel)",
   "language": "python",
   "name": "python3"
  },
  "language_info": {
   "codemirror_mode": {
    "name": "ipython",
    "version": 3
   },
   "file_extension": ".py",
   "mimetype": "text/x-python",
   "name": "python",
   "nbconvert_exporter": "python",
   "pygments_lexer": "ipython3",
   "version": "3.11.5"
  }
 },
 "nbformat": 4,
 "nbformat_minor": 5
}
