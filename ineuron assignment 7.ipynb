{
 "cells": [
  {
   "cell_type": "markdown",
   "id": "8a0352b0",
   "metadata": {},
   "source": [
    "# Problem 1: Generating a Vandermonde Matrix"
   ]
  },
  {
   "cell_type": "code",
   "execution_count": 1,
   "id": "8b666578",
   "metadata": {},
   "outputs": [],
   "source": [
    "import numpy as np"
   ]
  },
  {
   "cell_type": "code",
   "execution_count": 2,
   "id": "92b85fe2",
   "metadata": {},
   "outputs": [],
   "source": [
    "def vandermonde(input_vector, increasing=False):\n",
    "    n = len(input_vector)\n",
    "    if increasing:\n",
    "        return np.column_stack([input_vector ** i for i in range(n)])\n",
    "    else:\n",
    "        return np.column_stack([input_vector ** (n - i - 1) for i in range(n)])"
   ]
  },
  {
   "cell_type": "code",
   "execution_count": 3,
   "id": "f1aab755",
   "metadata": {},
   "outputs": [
    {
     "name": "stdout",
     "output_type": "stream",
     "text": [
      "Vandermonde matrix with increasing powers:\n",
      "[[  1   1   1   1   1]\n",
      " [  1   2   4   8  16]\n",
      " [  1   3   9  27  81]\n",
      " [  1   4  16  64 256]\n",
      " [  1   5  25 125 625]]\n",
      "\n",
      "Vandermonde matrix with decreasing powers:\n",
      "[[  1   1   1   1   1]\n",
      " [ 16   8   4   2   1]\n",
      " [ 81  27   9   3   1]\n",
      " [256  64  16   4   1]\n",
      " [625 125  25   5   1]]\n"
     ]
    }
   ],
   "source": [
    "input_vector = np.array([1, 2, 3, 4, 5])\n",
    "print(\"Vandermonde matrix with increasing powers:\")\n",
    "print(vandermonde(input_vector, increasing=True))\n",
    "print(\"\\nVandermonde matrix with decreasing powers:\")\n",
    "print(vandermonde(input_vector, increasing=False))"
   ]
  },
  {
   "cell_type": "code",
   "execution_count": null,
   "id": "2ee5cb7a",
   "metadata": {},
   "outputs": [],
   "source": []
  },
  {
   "cell_type": "markdown",
   "id": "c5dd2b4e",
   "metadata": {},
   "source": [
    "# Problem 2: Moving Average Function"
   ]
  },
  {
   "cell_type": "code",
   "execution_count": 4,
   "id": "4c84e6c7",
   "metadata": {},
   "outputs": [],
   "source": [
    "def moving_average(sequence, k):\n",
    "    n = len(sequence)\n",
    "    moving_averages = []\n",
    "    for i in range(n - k + 1):\n",
    "        window = sequence[i : i + k]\n",
    "        avg = sum(window) / k\n",
    "        moving_averages.append(avg)\n",
    "    return moving_averages"
   ]
  },
  {
   "cell_type": "code",
   "execution_count": 5,
   "id": "ea76d010",
   "metadata": {},
   "outputs": [
    {
     "name": "stdout",
     "output_type": "stream",
     "text": [
      "Moving averages: [5.0, 4.666666666666667, 5.666666666666667, 6.666666666666667, 9.666666666666666, 28.666666666666668, 49.333333333333336, 72.66666666666667, 84.0, 93.33333333333333, 116.33333333333333]\n"
     ]
    }
   ],
   "source": [
    "sequence = [3, 5, 7, 2, 8, 10, 11, 65, 72, 81, 99, 100, 150]\n",
    "window_size = 3\n",
    "print(\"Moving averages:\", moving_average(sequence, window_size))"
   ]
  },
  {
   "cell_type": "code",
   "execution_count": null,
   "id": "f37acb35",
   "metadata": {},
   "outputs": [],
   "source": []
  }
 ],
 "metadata": {
  "kernelspec": {
   "display_name": "Python 3 (ipykernel)",
   "language": "python",
   "name": "python3"
  },
  "language_info": {
   "codemirror_mode": {
    "name": "ipython",
    "version": 3
   },
   "file_extension": ".py",
   "mimetype": "text/x-python",
   "name": "python",
   "nbconvert_exporter": "python",
   "pygments_lexer": "ipython3",
   "version": "3.11.5"
  }
 },
 "nbformat": 4,
 "nbformat_minor": 5
}
